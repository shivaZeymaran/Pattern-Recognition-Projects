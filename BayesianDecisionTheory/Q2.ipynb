{
 "cells": [
  {
   "cell_type": "code",
   "execution_count": 1,
   "id": "b492fda6",
   "metadata": {},
   "outputs": [],
   "source": [
    "import numpy as np\n",
    "import pandas as pd\n",
    "import matplotlib.pyplot as plt"
   ]
  },
  {
   "cell_type": "markdown",
   "id": "50851bb5",
   "metadata": {},
   "source": [
    "# Load Dataset"
   ]
  },
  {
   "cell_type": "code",
   "execution_count": 2,
   "id": "4d77bced",
   "metadata": {},
   "outputs": [
    {
     "data": {
      "text/plain": [
       "array([[30., 64.,  1.,  1.],\n",
       "       [30., 62.,  3.,  1.],\n",
       "       [30., 65.,  0.,  1.],\n",
       "       ...,\n",
       "       [77., 65.,  3.,  1.],\n",
       "       [78., 65.,  1.,  2.],\n",
       "       [83., 58.,  2.,  2.]])"
      ]
     },
     "execution_count": 2,
     "metadata": {},
     "output_type": "execute_result"
    }
   ],
   "source": [
    "data = np.loadtxt('haberman.txt')\n",
    "data"
   ]
  },
  {
   "cell_type": "code",
   "execution_count": 3,
   "id": "03e725bf",
   "metadata": {},
   "outputs": [
    {
     "data": {
      "text/plain": [
       "(306, 4)"
      ]
     },
     "execution_count": 3,
     "metadata": {},
     "output_type": "execute_result"
    }
   ],
   "source": [
    "data.shape"
   ]
  },
  {
   "cell_type": "code",
   "execution_count": 4,
   "id": "de93d7fa",
   "metadata": {},
   "outputs": [
    {
     "data": {
      "text/plain": [
       "(306, 3)"
      ]
     },
     "execution_count": 4,
     "metadata": {},
     "output_type": "execute_result"
    }
   ],
   "source": [
    "features = data[:, :3]\n",
    "features.shape"
   ]
  },
  {
   "cell_type": "code",
   "execution_count": 5,
   "id": "c7a69347",
   "metadata": {},
   "outputs": [
    {
     "data": {
      "text/plain": [
       "(306,)"
      ]
     },
     "execution_count": 5,
     "metadata": {},
     "output_type": "execute_result"
    }
   ],
   "source": [
    "labels = data[:, -1]\n",
    "labels.shape"
   ]
  },
  {
   "cell_type": "code",
   "execution_count": 6,
   "id": "c0cdccda",
   "metadata": {},
   "outputs": [],
   "source": [
    "NUM_FEATURE = 3  # number of features\n",
    "NUM_CLASS = 2  # number of classes"
   ]
  },
  {
   "cell_type": "markdown",
   "id": "b7ae384d",
   "metadata": {},
   "source": [
    "# Prior"
   ]
  },
  {
   "cell_type": "code",
   "execution_count": 7,
   "id": "c2aab6e4",
   "metadata": {},
   "outputs": [
    {
     "name": "stdout",
     "output_type": "stream",
     "text": [
      "[0.7352941176470589, 0.2647058823529412]\n"
     ]
    }
   ],
   "source": [
    "prior1 = list(labels).count(1) / len(labels)  # class 1\n",
    "prior2 = list(labels).count(2) / len(labels)  # class 2\n",
    "\n",
    "prior = [prior1, prior2]\n",
    "print(prior)"
   ]
  },
  {
   "cell_type": "markdown",
   "id": "da383161",
   "metadata": {},
   "source": [
    "# Likelihood"
   ]
  },
  {
   "cell_type": "code",
   "execution_count": 8,
   "id": "44959eac",
   "metadata": {},
   "outputs": [],
   "source": [
    "# samples of each class\n",
    "class1 = np.array([d[0:3] for d in data if d[3] == 1])\n",
    "class2 = np.array([d[0:3] for d in data if d[3] == 2])"
   ]
  },
  {
   "cell_type": "code",
   "execution_count": 9,
   "id": "ea368e5e",
   "metadata": {},
   "outputs": [],
   "source": [
    "# mean and covariance matrix for each class\n",
    "mean1 = np.mean(class1, axis=0)  # mean along columns (features)\n",
    "mean2 = np.mean(class2, axis=0)\n",
    "\n",
    "cov1 = np.cov(class1, rowvar=False)\n",
    "cov2 = np.cov(class2, rowvar=False)"
   ]
  },
  {
   "cell_type": "code",
   "execution_count": 10,
   "id": "24b53f5c",
   "metadata": {},
   "outputs": [
    {
     "name": "stdout",
     "output_type": "stream",
     "text": [
      "covariance matrix of class 1 is sigular: False\n",
      "covariance matrix of class 2 is sigular: False\n"
     ]
    }
   ],
   "source": [
    "print('covariance matrix of class 1 is sigular:', np.isclose(np.linalg.det(cov1), 0))\n",
    "print('covariance matrix of class 2 is sigular:', np.isclose(np.linalg.det(cov2), 0))"
   ]
  },
  {
   "cell_type": "code",
   "execution_count": 11,
   "id": "81f70df6",
   "metadata": {},
   "outputs": [],
   "source": [
    "# Gaussian distribution function for each class\n",
    "def gauss_dist(mean, cov, x):\n",
    "    return (1/(np.power(2*np.pi, NUM_FEATURE/2) * np.sqrt(np.linalg.det(cov)))) * (np.exp(-0.5*(x-mean).T@np.linalg.inv(cov)@(x-mean)))"
   ]
  },
  {
   "cell_type": "code",
   "execution_count": 12,
   "id": "b7f63c01",
   "metadata": {},
   "outputs": [
    {
     "data": {
      "text/plain": [
       "(306, 2)"
      ]
     },
     "execution_count": 12,
     "metadata": {},
     "output_type": "execute_result"
    }
   ],
   "source": [
    "likelihood = []\n",
    "\n",
    "for sample in features:\n",
    "    l1 = gauss_dist(mean1, cov1, sample)\n",
    "    l2 = gauss_dist(mean2, cov2, sample)\n",
    "    likelihood.append([l1, l2])\n",
    "\n",
    "np.array(likelihood).shape"
   ]
  },
  {
   "cell_type": "markdown",
   "id": "011b9fde",
   "metadata": {},
   "source": [
    "# Confusion Matrix"
   ]
  },
  {
   "cell_type": "code",
   "execution_count": 13,
   "id": "c8ace710",
   "metadata": {},
   "outputs": [],
   "source": [
    "# ref. to https://stackoverflow.com/questions/2148543/how-to-write-a-confusion-matrix\n",
    "\n",
    "def confusion_matrix(labels, preds):\n",
    "    matrix = np.zeros((NUM_CLASS, NUM_CLASS))\n",
    "    for i in range(len(labels)):\n",
    "        matrix[int(labels[i]-1)][int(preds[i]-1)] += 1\n",
    "    return matrix"
   ]
  },
  {
   "cell_type": "code",
   "execution_count": 14,
   "id": "03703940",
   "metadata": {},
   "outputs": [],
   "source": [
    "def avg_accuracy(confusion_matrix):\n",
    "    return (confusion_matrix[0][0] + confusion_matrix[1][1]) / confusion_matrix.sum()"
   ]
  },
  {
   "cell_type": "code",
   "execution_count": 15,
   "id": "809b862d",
   "metadata": {},
   "outputs": [],
   "source": [
    "def class1_accuracy(confusion_matrix):  # sensitivity\n",
    "    return confusion_matrix[0][0] / (confusion_matrix[0][0] + confusion_matrix[0][1])"
   ]
  },
  {
   "cell_type": "code",
   "execution_count": 16,
   "id": "e3e0dcac",
   "metadata": {},
   "outputs": [],
   "source": [
    "def class2_accuracy(confusion_matrix):  # specificity\n",
    "    return confusion_matrix[1][1] / (confusion_matrix[1][0] + confusion_matrix[1][1])"
   ]
  },
  {
   "cell_type": "markdown",
   "id": "c5a2f8d0",
   "metadata": {},
   "source": [
    "# ML"
   ]
  },
  {
   "cell_type": "code",
   "execution_count": 17,
   "id": "6c85eb08",
   "metadata": {},
   "outputs": [
    {
     "data": {
      "text/plain": [
       "(306,)"
      ]
     },
     "execution_count": 17,
     "metadata": {},
     "output_type": "execute_result"
    }
   ],
   "source": [
    "ML_preds = []\n",
    "\n",
    "for l in likelihood:\n",
    "    if l[0] > l[1]:\n",
    "        ML_preds.append(1.)\n",
    "    else:\n",
    "        ML_preds.append(2.)\n",
    "        \n",
    "ML_preds = np.array(ML_preds)\n",
    "ML_preds.shape"
   ]
  },
  {
   "cell_type": "code",
   "execution_count": 18,
   "id": "33bfe8f4",
   "metadata": {},
   "outputs": [
    {
     "data": {
      "text/plain": [
       "array([[195.,  30.],\n",
       "       [ 48.,  33.]])"
      ]
     },
     "execution_count": 18,
     "metadata": {},
     "output_type": "execute_result"
    }
   ],
   "source": [
    "confML = confusion_matrix(labels, ML_preds)\n",
    "confML"
   ]
  },
  {
   "cell_type": "code",
   "execution_count": 19,
   "id": "82802879",
   "metadata": {},
   "outputs": [
    {
     "data": {
      "text/plain": [
       "0.8666666666666667"
      ]
     },
     "execution_count": 19,
     "metadata": {},
     "output_type": "execute_result"
    }
   ],
   "source": [
    "class1_accuracy(confML)"
   ]
  },
  {
   "cell_type": "code",
   "execution_count": 20,
   "id": "4165a884",
   "metadata": {},
   "outputs": [
    {
     "data": {
      "text/plain": [
       "0.4074074074074074"
      ]
     },
     "execution_count": 20,
     "metadata": {},
     "output_type": "execute_result"
    }
   ],
   "source": [
    "class2_accuracy(confML)"
   ]
  },
  {
   "cell_type": "code",
   "execution_count": 21,
   "id": "80939fb1",
   "metadata": {},
   "outputs": [
    {
     "data": {
      "text/plain": [
       "0.7450980392156863"
      ]
     },
     "execution_count": 21,
     "metadata": {},
     "output_type": "execute_result"
    }
   ],
   "source": [
    "ML_acc = avg_accuracy(confML)\n",
    "ML_acc"
   ]
  },
  {
   "cell_type": "markdown",
   "id": "26a848c2",
   "metadata": {},
   "source": [
    "# MAP"
   ]
  },
  {
   "cell_type": "code",
   "execution_count": 22,
   "id": "cd07a7a8",
   "metadata": {},
   "outputs": [
    {
     "data": {
      "text/plain": [
       "(306,)"
      ]
     },
     "execution_count": 22,
     "metadata": {},
     "output_type": "execute_result"
    }
   ],
   "source": [
    "MAP_preds = []\n",
    "\n",
    "for l in likelihood:\n",
    "    if l[0]*prior[0] > l[1]*prior[1]:\n",
    "        MAP_preds.append(1.)\n",
    "    else:\n",
    "        MAP_preds.append(2.)\n",
    "        \n",
    "MAP_preds = np.array(MAP_preds)\n",
    "MAP_preds.shape"
   ]
  },
  {
   "cell_type": "code",
   "execution_count": 23,
   "id": "7e19f304",
   "metadata": {},
   "outputs": [
    {
     "data": {
      "text/plain": [
       "array([[215.,  10.],\n",
       "       [ 63.,  18.]])"
      ]
     },
     "execution_count": 23,
     "metadata": {},
     "output_type": "execute_result"
    }
   ],
   "source": [
    "confMAP = confusion_matrix(labels, MAP_preds)\n",
    "confMAP"
   ]
  },
  {
   "cell_type": "code",
   "execution_count": 24,
   "id": "66f25500",
   "metadata": {},
   "outputs": [
    {
     "data": {
      "text/plain": [
       "0.9555555555555556"
      ]
     },
     "execution_count": 24,
     "metadata": {},
     "output_type": "execute_result"
    }
   ],
   "source": [
    "class1_accuracy(confMAP)"
   ]
  },
  {
   "cell_type": "code",
   "execution_count": 25,
   "id": "710d3156",
   "metadata": {},
   "outputs": [
    {
     "data": {
      "text/plain": [
       "0.2222222222222222"
      ]
     },
     "execution_count": 25,
     "metadata": {},
     "output_type": "execute_result"
    }
   ],
   "source": [
    "class2_accuracy(confMAP)"
   ]
  },
  {
   "cell_type": "code",
   "execution_count": 26,
   "id": "75b9850f",
   "metadata": {},
   "outputs": [
    {
     "data": {
      "text/plain": [
       "0.761437908496732"
      ]
     },
     "execution_count": 26,
     "metadata": {},
     "output_type": "execute_result"
    }
   ],
   "source": [
    "MAP_acc = avg_accuracy(confMAP)\n",
    "MAP_acc"
   ]
  },
  {
   "cell_type": "markdown",
   "id": "04aff896",
   "metadata": {},
   "source": [
    "# Bayes"
   ]
  },
  {
   "cell_type": "code",
   "execution_count": 27,
   "id": "da258abc",
   "metadata": {},
   "outputs": [
    {
     "data": {
      "text/plain": [
       "(306,)"
      ]
     },
     "execution_count": 27,
     "metadata": {},
     "output_type": "execute_result"
    }
   ],
   "source": [
    "lamb = np.array([[0, 2], [1, 0]])\n",
    "\n",
    "Bayes_preds = []\n",
    "\n",
    "for l in likelihood:\n",
    "    if l[0]*prior[0]*(lamb[1][0] - lamb[0][0]) > l[1]*prior[1]*(lamb[0][1] - lamb[1][1]):\n",
    "        Bayes_preds.append(1.)\n",
    "    else:\n",
    "        Bayes_preds.append(2.)\n",
    "        \n",
    "Bayes_preds = np.array(Bayes_preds)\n",
    "Bayes_preds.shape"
   ]
  },
  {
   "cell_type": "code",
   "execution_count": 28,
   "id": "2ab29ba0",
   "metadata": {},
   "outputs": [
    {
     "data": {
      "text/plain": [
       "array([[204.,  21.],\n",
       "       [ 56.,  25.]])"
      ]
     },
     "execution_count": 28,
     "metadata": {},
     "output_type": "execute_result"
    }
   ],
   "source": [
    "confBayes = confusion_matrix(labels, Bayes_preds)\n",
    "confBayes"
   ]
  },
  {
   "cell_type": "code",
   "execution_count": 29,
   "id": "67131091",
   "metadata": {},
   "outputs": [
    {
     "data": {
      "text/plain": [
       "0.9066666666666666"
      ]
     },
     "execution_count": 29,
     "metadata": {},
     "output_type": "execute_result"
    }
   ],
   "source": [
    "class1_accuracy(confBayes)"
   ]
  },
  {
   "cell_type": "code",
   "execution_count": 30,
   "id": "1d5673fc",
   "metadata": {},
   "outputs": [
    {
     "data": {
      "text/plain": [
       "0.30864197530864196"
      ]
     },
     "execution_count": 30,
     "metadata": {},
     "output_type": "execute_result"
    }
   ],
   "source": [
    "class2_accuracy(confBayes)"
   ]
  },
  {
   "cell_type": "code",
   "execution_count": 31,
   "id": "d3d0c0d4",
   "metadata": {},
   "outputs": [
    {
     "data": {
      "text/plain": [
       "0.7483660130718954"
      ]
     },
     "execution_count": 31,
     "metadata": {},
     "output_type": "execute_result"
    }
   ],
   "source": [
    "Bayes_acc = avg_accuracy(confBayes)\n",
    "Bayes_acc"
   ]
  },
  {
   "cell_type": "markdown",
   "id": "2b88e681",
   "metadata": {},
   "source": [
    "## Comparison"
   ]
  },
  {
   "cell_type": "code",
   "execution_count": 32,
   "id": "ca2d6f73",
   "metadata": {},
   "outputs": [
    {
     "data": {
      "image/png": "[encoded data removed]",
      "text/plain": [
       "<Figure size 432x288 with 1 Axes>"
      ]
     },
     "metadata": {
      "needs_background": "light"
     },
     "output_type": "display_data"
    }
   ],
   "source": [
    "x = np.array(['ML', 'MAP', 'Bayes'])\n",
    "y = np.array([ML_acc, MAP_acc, Bayes_acc])\n",
    "\n",
    "plt.bar(x, y)\n",
    "plt.show()"
   ]
  }
 ],
 "metadata": {
  "kernelspec": {
   "display_name": "Python 3 (ipykernel)",
   "language": "python",
   "name": "python3"
  },
  "language_info": {
   "codemirror_mode": {
    "name": "ipython",
    "version": 3
   },
   "file_extension": ".py",
   "mimetype": "text/x-python",
   "name": "python",
   "nbconvert_exporter": "python",
   "pygments_lexer": "ipython3",
   "version": "3.9.12"
  }
 },
 "nbformat": 4,
 "nbformat_minor": 5
}
